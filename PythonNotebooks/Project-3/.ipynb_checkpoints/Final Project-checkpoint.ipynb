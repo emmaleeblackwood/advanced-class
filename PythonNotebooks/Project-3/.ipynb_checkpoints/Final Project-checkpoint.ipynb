{
 "cells": [
  {
   "cell_type": "markdown",
   "metadata": {},
   "source": [
    "# Visualizing the Potential for Urban Agriculture in the Urban Prairie of St. Louis"
   ]
  },
  {
   "cell_type": "markdown",
   "metadata": {},
   "source": [
    "## Overview"
   ]
  },
  {
   "cell_type": "markdown",
   "metadata": {},
   "source": [
    "In this notebook, we will be going through the steps to clean the data and preview 3 maps:\n",
    "* Clean and add vacant lots (low-estimate) and food deserts by census tract to ArcGIS Online\n",
    "* Hot Spots for vacant lots within food deserts\n",
    "* Total population for each food desert\n",
    "* Vacant lots near schools using a buffer"
   ]
  },
  {
   "cell_type": "markdown",
   "metadata": {},
   "source": [
    "## 1. Importing necessary packages and logging into ArcGIS Online"
   ]
  },
  {
   "cell_type": "code",
   "execution_count": 1,
   "metadata": {},
   "outputs": [],
   "source": [
    "from arcgis.gis import GIS\n",
    "from IPython.display import display"
   ]
  },
  {
   "cell_type": "code",
   "execution_count": 2,
   "metadata": {},
   "outputs": [
    {
     "name": "stdout",
     "output_type": "stream",
     "text": [
      "Enter password: ········\n"
     ]
    }
   ],
   "source": [
    "gis = GIS(\"http://slustl.maps.arcgis.com/home\", \"emmaleeblackwood\")"
   ]
  },
  {
   "cell_type": "code",
   "execution_count": 3,
   "metadata": {},
   "outputs": [],
   "source": [
    "import pandas as pd"
   ]
  },
  {
   "cell_type": "code",
   "execution_count": 24,
   "metadata": {},
   "outputs": [],
   "source": [
    "import json"
   ]
  },
  {
   "cell_type": "code",
   "execution_count": 4,
   "metadata": {},
   "outputs": [],
   "source": [
    "from arcgis.geoenrichment import *"
   ]
  },
  {
   "cell_type": "code",
   "execution_count": 5,
   "metadata": {},
   "outputs": [],
   "source": [
    "from arcgis.features import enrich_data"
   ]
  },
  {
   "cell_type": "code",
   "execution_count": 33,
   "metadata": {},
   "outputs": [],
   "source": [
    "from arcgis.features import analysis"
   ]
  },
  {
   "cell_type": "code",
   "execution_count": 40,
   "metadata": {},
   "outputs": [],
   "source": [
    "from arcgis.features import use_proximity"
   ]
  },
  {
   "cell_type": "markdown",
   "metadata": {},
   "source": [
    "## 2. Creating the first map with vacant lots and food deserts in St. Louis City"
   ]
  },
  {
   "cell_type": "markdown",
   "metadata": {},
   "source": [
    "In this first map, we want to publish the data for vacant lots and food deserts in St. Louis.  Several steps are needed--"
   ]
  },
  {
   "cell_type": "markdown",
   "metadata": {},
   "source": [
    "First, we will publish the data on ArcGIS Online:"
   ]
  },
  {
   "cell_type": "code",
   "execution_count": 79,
   "metadata": {},
   "outputs": [],
   "source": [
    "data = ['./FoodDesert.geojson','./vacancy-low.geojson']"
   ]
  },
  {
   "cell_type": "code",
   "execution_count": 11,
   "metadata": {
    "scrolled": true
   },
   "outputs": [
    {
     "name": "stdout",
     "output_type": "stream",
     "text": [
      "<Item title:\"./FoodDesert.geojson\" type:Feature Layer Collection owner:emmaleeblackwood>\n",
      "<Item title:\"./vacancy-low.geojson\" type:Feature Layer Collection owner:emmaleeblackwood>\n"
     ]
    }
   ],
   "source": [
    "for x in data:\n",
    "    lyr_properties = {'title': x, 'tags': 'stl, food desert', 'type': 'GeoJson'}\n",
    "    lyr = gis.content.add(lyr_properties, x)\n",
    "    published_lyr  = lyr.publish()\n",
    "    print(published_lyr)"
   ]
  },
  {
   "cell_type": "code",
   "execution_count": 189,
   "metadata": {},
   "outputs": [
    {
     "name": "stdout",
     "output_type": "stream",
     "text": [
      "<Item title:\"vacancy-low-stl\" type:Feature Layer Collection owner:emmaleeblackwood>\n"
     ]
    }
   ],
   "source": [
    "lyr_properties = {'title': 'vacancy-low-stl', 'tags': 'stl, food desert', 'type': 'GeoJson'}\n",
    "lyr = gis.content.add(lyr_properties, './vacancy-low.geojson')\n",
    "published_lyr  = lyr.publish()\n",
    "print(published_lyr)"
   ]
  },
  {
   "cell_type": "markdown",
   "metadata": {},
   "source": [
    "Now we will find the layer for the food deserts data we just added and then remove food deserts that are not in St. Louis City:"
   ]
  },
  {
   "cell_type": "code",
   "execution_count": 26,
   "metadata": {},
   "outputs": [
    {
     "data": {
      "text/html": [
       "<div class=\"item_container\" style=\"height: auto; overflow: hidden; border: 1px solid #cfcfcf; border-radius: 2px; background: #f6fafa; line-height: 1.21429em; padding: 10px;\">\n",
       "                    <div class=\"item_left\" style=\"width: 210px; float: left;\">\n",
       "                       <a href='http://SLUSTL.maps.arcgis.com/home/item.html?id=acb15fe11db04aab9389418ab1643340' target='_blank'>\n",
       "                        <img src='data:image/png;base64,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' width='200' height='133' class=\"itemThumbnail\">\n",
       "                       </a>\n",
       "                    </div>\n",
       "\n",
       "                    <div class=\"item_right\"     style=\"float: none; width: auto; overflow: hidden;\">\n",
       "                        <a href='http://SLUSTL.maps.arcgis.com/home/item.html?id=acb15fe11db04aab9389418ab1643340' target='_blank'><b>./FoodDesert.geojson</b>\n",
       "                        </a>\n",
       "                        <br/><img src='http://SLUSTL.maps.arcgis.com/home/js/jsapi/esri/css/images/item_type_icons/featureshosted16.png' style=\"vertical-align:middle;\">Feature Layer Collection by emmaleeblackwood\n",
       "                        <br/>Last Modified: December 02, 2018\n",
       "                        <br/>0 comments, 8 views\n",
       "                    </div>\n",
       "                </div>\n",
       "                "
      ],
      "text/plain": [
       "<Item title:\"./FoodDesert.geojson\" type:Feature Layer Collection owner:emmaleeblackwood>"
      ]
     },
     "metadata": {},
     "output_type": "display_data"
    },
    {
     "data": {
      "text/html": [
       "<div class=\"item_container\" style=\"height: auto; overflow: hidden; border: 1px solid #cfcfcf; border-radius: 2px; background: #f6fafa; line-height: 1.21429em; padding: 10px;\">\n",
       "                    <div class=\"item_left\" style=\"width: 210px; float: left;\">\n",
       "                       <a href='http://SLUSTL.maps.arcgis.com/home/item.html?id=9da788fcc1ba43ff80351043ecf15500' target='_blank'>\n",
       "                        <img src='http://static.arcgis.com/images/desktopapp.png' class=\"itemThumbnail\">\n",
       "                       </a>\n",
       "                    </div>\n",
       "\n",
       "                    <div class=\"item_right\"     style=\"float: none; width: auto; overflow: hidden;\">\n",
       "                        <a href='http://SLUSTL.maps.arcgis.com/home/item.html?id=9da788fcc1ba43ff80351043ecf15500' target='_blank'><b>./FoodDesert.geojson</b>\n",
       "                        </a>\n",
       "                        <br/><img src='http://SLUSTL.maps.arcgis.com/home/js/jsapi/esri/css/images/item_type_icons/layers16.png' style=\"vertical-align:middle;\">GeoJson by emmaleeblackwood\n",
       "                        <br/>Last Modified: December 02, 2018\n",
       "                        <br/>0 comments, 0 views\n",
       "                    </div>\n",
       "                </div>\n",
       "                "
      ],
      "text/plain": [
       "<Item title:\"./FoodDesert.geojson\" type:GeoJson owner:emmaleeblackwood>"
      ]
     },
     "metadata": {},
     "output_type": "display_data"
    }
   ],
   "source": [
    "desert_search = gis.content.search('FoodDesert')\n",
    "for x in desert_search:\n",
    "    display(x)"
   ]
  },
  {
   "cell_type": "code",
   "execution_count": 27,
   "metadata": {},
   "outputs": [],
   "source": [
    "desert_item = desert_search[0]\n",
    "desert_layer = desert_item.layers"
   ]
  },
  {
   "cell_type": "markdown",
   "metadata": {},
   "source": [
    "*Note: Make sure the layer is able to be edited by switching settings"
   ]
  },
  {
   "cell_type": "code",
   "execution_count": null,
   "metadata": {},
   "outputs": [],
   "source": [
    "desert_fset = desert_layer[0].query()"
   ]
  },
  {
   "cell_type": "code",
   "execution_count": 109,
   "metadata": {},
   "outputs": [],
   "source": [
    "desert_features = desert_fset.features"
   ]
  },
  {
   "cell_type": "code",
   "execution_count": 150,
   "metadata": {},
   "outputs": [],
   "source": [
    "desert_flayer = desert_layer[0]"
   ]
  },
  {
   "cell_type": "markdown",
   "metadata": {},
   "source": [
    "We will loop through to make a list of all the `ObjectId` values that are not for St. Louis City:"
   ]
  },
  {
   "cell_type": "code",
   "execution_count": 145,
   "metadata": {},
   "outputs": [],
   "source": [
    "desert_delete_ids = []\n",
    "for i in range(len(desert_fset)):\n",
    "    desert_feature = [d for d in desert_features if d.attributes['ObjectId'] == (i + 1)][0]\n",
    "    county_to_check = desert_feature.get_value('County')\n",
    "    if county_to_check != \"St. Louis City\":\n",
    "        desert_delete_ids.append(i + 1)"
   ]
  },
  {
   "cell_type": "markdown",
   "metadata": {},
   "source": [
    "Now we will delete all the deserts not in STL:"
   ]
  },
  {
   "cell_type": "code",
   "execution_count": 146,
   "metadata": {},
   "outputs": [],
   "source": [
    "for i in range(len(desert_delete_ids)):\n",
    "    delete_result = desert_flayer.edit_features(deletes=str(desert_delete_ids[i]))\n",
    "    delete_result"
   ]
  },
  {
   "cell_type": "markdown",
   "metadata": {},
   "source": [
    "To check that they were deleted:"
   ]
  },
  {
   "cell_type": "code",
   "execution_count": 149,
   "metadata": {},
   "outputs": [
    {
     "data": {
      "text/html": [
       "<div>\n",
       "<style scoped>\n",
       "    .dataframe tbody tr th:only-of-type {\n",
       "        vertical-align: middle;\n",
       "    }\n",
       "\n",
       "    .dataframe tbody tr th {\n",
       "        vertical-align: top;\n",
       "    }\n",
       "\n",
       "    .dataframe thead th {\n",
       "        text-align: right;\n",
       "    }\n",
       "</style>\n",
       "<table border=\"1\" class=\"dataframe\">\n",
       "  <thead>\n",
       "    <tr style=\"text-align: right;\">\n",
       "      <th></th>\n",
       "      <th>County</th>\n",
       "      <th>ObjectId</th>\n",
       "      <th>SHAPE</th>\n",
       "      <th>Shape__Area</th>\n",
       "      <th>Shape__Length</th>\n",
       "    </tr>\n",
       "  </thead>\n",
       "  <tbody>\n",
       "    <tr>\n",
       "      <th>0</th>\n",
       "      <td>St. Louis City</td>\n",
       "      <td>8</td>\n",
       "      <td>{\"rings\": [[[-10039258.3530595, 4689396.521049...</td>\n",
       "      <td>2.467810e+07</td>\n",
       "      <td>35051.730931</td>\n",
       "    </tr>\n",
       "    <tr>\n",
       "      <th>1</th>\n",
       "      <td>St. Louis City</td>\n",
       "      <td>32</td>\n",
       "      <td>{\"rings\": [[[-10046842.8855282, 4681393.019821...</td>\n",
       "      <td>5.286450e+06</td>\n",
       "      <td>10921.672257</td>\n",
       "    </tr>\n",
       "    <tr>\n",
       "      <th>2</th>\n",
       "      <td>St. Louis City</td>\n",
       "      <td>33</td>\n",
       "      <td>{\"rings\": [[[-10047016.9891963, 4681065.728533...</td>\n",
       "      <td>2.611138e+06</td>\n",
       "      <td>7193.348477</td>\n",
       "    </tr>\n",
       "    <tr>\n",
       "      <th>3</th>\n",
       "      <td>St. Louis City</td>\n",
       "      <td>35</td>\n",
       "      <td>{\"rings\": [[[-10046625.478334, 4679634.2738933...</td>\n",
       "      <td>1.077666e+06</td>\n",
       "      <td>5074.761283</td>\n",
       "    </tr>\n",
       "    <tr>\n",
       "      <th>4</th>\n",
       "      <td>St. Louis City</td>\n",
       "      <td>36</td>\n",
       "      <td>{\"rings\": [[[-10046096.2652872, 4679136.436061...</td>\n",
       "      <td>1.783986e+06</td>\n",
       "      <td>5636.336380</td>\n",
       "    </tr>\n",
       "    <tr>\n",
       "      <th>5</th>\n",
       "      <td>St. Louis City</td>\n",
       "      <td>38</td>\n",
       "      <td>{\"rings\": [[[-10048380.2079009, 4678893.802208...</td>\n",
       "      <td>7.102974e+06</td>\n",
       "      <td>15360.158272</td>\n",
       "    </tr>\n",
       "    <tr>\n",
       "      <th>6</th>\n",
       "      <td>St. Louis City</td>\n",
       "      <td>40</td>\n",
       "      <td>{\"rings\": [[[-10045584.5294052, 4678384.875434...</td>\n",
       "      <td>1.498826e+06</td>\n",
       "      <td>5270.142167</td>\n",
       "    </tr>\n",
       "    <tr>\n",
       "      <th>7</th>\n",
       "      <td>St. Louis City</td>\n",
       "      <td>42</td>\n",
       "      <td>{\"rings\": [[[-10040539.7512336, 4676979.895218...</td>\n",
       "      <td>5.180474e+06</td>\n",
       "      <td>11593.043744</td>\n",
       "    </tr>\n",
       "    <tr>\n",
       "      <th>8</th>\n",
       "      <td>St. Louis City</td>\n",
       "      <td>44</td>\n",
       "      <td>{\"rings\": [[[-10046077.2295349, 4676836.141650...</td>\n",
       "      <td>1.914795e+06</td>\n",
       "      <td>6711.798609</td>\n",
       "    </tr>\n",
       "    <tr>\n",
       "      <th>9</th>\n",
       "      <td>St. Louis City</td>\n",
       "      <td>45</td>\n",
       "      <td>{\"rings\": [[[-10049392.2135339, 4677246.157191...</td>\n",
       "      <td>1.749913e+06</td>\n",
       "      <td>5982.520796</td>\n",
       "    </tr>\n",
       "    <tr>\n",
       "      <th>10</th>\n",
       "      <td>St. Louis City</td>\n",
       "      <td>46</td>\n",
       "      <td>{\"rings\": [[[-10048952.8354593, 4676799.062604...</td>\n",
       "      <td>1.671425e+06</td>\n",
       "      <td>6182.005992</td>\n",
       "    </tr>\n",
       "    <tr>\n",
       "      <th>11</th>\n",
       "      <td>St. Louis City</td>\n",
       "      <td>48</td>\n",
       "      <td>{\"rings\": [[[-10044437.8268673, 4675604.197154...</td>\n",
       "      <td>1.277830e+06</td>\n",
       "      <td>5482.788982</td>\n",
       "    </tr>\n",
       "    <tr>\n",
       "      <th>12</th>\n",
       "      <td>St. Louis City</td>\n",
       "      <td>49</td>\n",
       "      <td>{\"rings\": [[[-10046775.8707864, 4675408.559783...</td>\n",
       "      <td>2.034422e+06</td>\n",
       "      <td>6209.471892</td>\n",
       "    </tr>\n",
       "    <tr>\n",
       "      <th>13</th>\n",
       "      <td>St. Louis City</td>\n",
       "      <td>50</td>\n",
       "      <td>{\"rings\": [[[-10050580.8832503, 4675306.321947...</td>\n",
       "      <td>1.570996e+06</td>\n",
       "      <td>5396.539063</td>\n",
       "    </tr>\n",
       "    <tr>\n",
       "      <th>14</th>\n",
       "      <td>St. Louis City</td>\n",
       "      <td>51</td>\n",
       "      <td>{\"rings\": [[[-10041836.5120551, 4673669.949153...</td>\n",
       "      <td>4.346413e+06</td>\n",
       "      <td>8360.549291</td>\n",
       "    </tr>\n",
       "    <tr>\n",
       "      <th>15</th>\n",
       "      <td>St. Louis City</td>\n",
       "      <td>52</td>\n",
       "      <td>{\"rings\": [[[-10048852.3137272, 4674867.297178...</td>\n",
       "      <td>1.748630e+06</td>\n",
       "      <td>5863.530025</td>\n",
       "    </tr>\n",
       "    <tr>\n",
       "      <th>16</th>\n",
       "      <td>St. Louis City</td>\n",
       "      <td>53</td>\n",
       "      <td>{\"rings\": [[[-10044051.2140792, 4674323.069604...</td>\n",
       "      <td>2.048664e+06</td>\n",
       "      <td>6451.732962</td>\n",
       "    </tr>\n",
       "    <tr>\n",
       "      <th>17</th>\n",
       "      <td>St. Louis City</td>\n",
       "      <td>54</td>\n",
       "      <td>{\"rings\": [[[-10044110.770007, 4674356.4325732...</td>\n",
       "      <td>1.541304e+06</td>\n",
       "      <td>5474.438709</td>\n",
       "    </tr>\n",
       "    <tr>\n",
       "      <th>18</th>\n",
       "      <td>St. Louis City</td>\n",
       "      <td>55</td>\n",
       "      <td>{\"rings\": [[[-10051287.8734616, 4674175.361371...</td>\n",
       "      <td>1.161277e+06</td>\n",
       "      <td>4528.602588</td>\n",
       "    </tr>\n",
       "    <tr>\n",
       "      <th>19</th>\n",
       "      <td>St. Louis City</td>\n",
       "      <td>56</td>\n",
       "      <td>{\"rings\": [[[-10046386.8088854, 4674164.240890...</td>\n",
       "      <td>1.720347e+06</td>\n",
       "      <td>8102.995932</td>\n",
       "    </tr>\n",
       "    <tr>\n",
       "      <th>20</th>\n",
       "      <td>St. Louis City</td>\n",
       "      <td>57</td>\n",
       "      <td>{\"rings\": [[[-10050274.42061, 4674066.00760237...</td>\n",
       "      <td>1.963634e+06</td>\n",
       "      <td>7067.908446</td>\n",
       "    </tr>\n",
       "    <tr>\n",
       "      <th>21</th>\n",
       "      <td>St. Louis City</td>\n",
       "      <td>58</td>\n",
       "      <td>{\"rings\": [[[-10045783.6796742, 4673828.056989...</td>\n",
       "      <td>1.562133e+06</td>\n",
       "      <td>5080.522677</td>\n",
       "    </tr>\n",
       "    <tr>\n",
       "      <th>22</th>\n",
       "      <td>St. Louis City</td>\n",
       "      <td>59</td>\n",
       "      <td>{\"rings\": [[[-10043804.195979, 4673765.7545589...</td>\n",
       "      <td>1.453878e+06</td>\n",
       "      <td>5027.010827</td>\n",
       "    </tr>\n",
       "    <tr>\n",
       "      <th>23</th>\n",
       "      <td>St. Louis City</td>\n",
       "      <td>60</td>\n",
       "      <td>{\"rings\": [[[-10044802.509451, 4673140.8963010...</td>\n",
       "      <td>1.496889e+06</td>\n",
       "      <td>5458.357137</td>\n",
       "    </tr>\n",
       "    <tr>\n",
       "      <th>24</th>\n",
       "      <td>St. Louis City</td>\n",
       "      <td>61</td>\n",
       "      <td>{\"rings\": [[[-10051819.3128756, 4673306.836603...</td>\n",
       "      <td>1.572749e+06</td>\n",
       "      <td>5844.451508</td>\n",
       "    </tr>\n",
       "    <tr>\n",
       "      <th>25</th>\n",
       "      <td>St. Louis City</td>\n",
       "      <td>62</td>\n",
       "      <td>{\"rings\": [[[-10048334.6778702, 4673121.222840...</td>\n",
       "      <td>1.141722e+06</td>\n",
       "      <td>6551.791453</td>\n",
       "    </tr>\n",
       "    <tr>\n",
       "      <th>26</th>\n",
       "      <td>St. Louis City</td>\n",
       "      <td>63</td>\n",
       "      <td>{\"rings\": [[[-10042709.8136931, 4672625.983860...</td>\n",
       "      <td>2.859438e+06</td>\n",
       "      <td>6815.864331</td>\n",
       "    </tr>\n",
       "    <tr>\n",
       "      <th>27</th>\n",
       "      <td>St. Louis City</td>\n",
       "      <td>64</td>\n",
       "      <td>{\"rings\": [[[-10046893.0900049, 4671828.576031...</td>\n",
       "      <td>1.791108e+06</td>\n",
       "      <td>7207.332876</td>\n",
       "    </tr>\n",
       "    <tr>\n",
       "      <th>28</th>\n",
       "      <td>St. Louis City</td>\n",
       "      <td>65</td>\n",
       "      <td>{\"rings\": [[[-10043239.24921, 4671172.05184245...</td>\n",
       "      <td>1.408093e+06</td>\n",
       "      <td>5202.273313</td>\n",
       "    </tr>\n",
       "    <tr>\n",
       "      <th>29</th>\n",
       "      <td>St. Louis City</td>\n",
       "      <td>66</td>\n",
       "      <td>{\"rings\": [[[-10042788.8503948, 4671050.757698...</td>\n",
       "      <td>2.920442e+06</td>\n",
       "      <td>7653.923872</td>\n",
       "    </tr>\n",
       "    <tr>\n",
       "      <th>30</th>\n",
       "      <td>St. Louis City</td>\n",
       "      <td>67</td>\n",
       "      <td>{\"rings\": [[[-10045149.7148936, 4670844.090506...</td>\n",
       "      <td>1.936720e+06</td>\n",
       "      <td>5835.546340</td>\n",
       "    </tr>\n",
       "    <tr>\n",
       "      <th>31</th>\n",
       "      <td>St. Louis City</td>\n",
       "      <td>68</td>\n",
       "      <td>{\"rings\": [[[-10041219.4677586, 4670627.451064...</td>\n",
       "      <td>2.456905e+06</td>\n",
       "      <td>8283.118026</td>\n",
       "    </tr>\n",
       "    <tr>\n",
       "      <th>32</th>\n",
       "      <td>St. Louis City</td>\n",
       "      <td>69</td>\n",
       "      <td>{\"rings\": [[[-10044353.3349994, 4670412.525958...</td>\n",
       "      <td>1.803089e+06</td>\n",
       "      <td>5819.758045</td>\n",
       "    </tr>\n",
       "    <tr>\n",
       "      <th>33</th>\n",
       "      <td>St. Louis City</td>\n",
       "      <td>70</td>\n",
       "      <td>{\"rings\": [[[-10046220.1632739, 4669824.213660...</td>\n",
       "      <td>4.469409e+06</td>\n",
       "      <td>10228.944381</td>\n",
       "    </tr>\n",
       "    <tr>\n",
       "      <th>34</th>\n",
       "      <td>St. Louis City</td>\n",
       "      <td>71</td>\n",
       "      <td>{\"rings\": [[[-10044780.02259, 4669441.14486647...</td>\n",
       "      <td>2.376463e+06</td>\n",
       "      <td>6773.347245</td>\n",
       "    </tr>\n",
       "    <tr>\n",
       "      <th>35</th>\n",
       "      <td>St. Louis City</td>\n",
       "      <td>72</td>\n",
       "      <td>{\"rings\": [[[-10048252.0784935, 4668220.351196...</td>\n",
       "      <td>2.566071e+06</td>\n",
       "      <td>7085.170642</td>\n",
       "    </tr>\n",
       "    <tr>\n",
       "      <th>36</th>\n",
       "      <td>St. Louis City</td>\n",
       "      <td>73</td>\n",
       "      <td>{\"rings\": [[[-10045709.2065913, 4668399.036623...</td>\n",
       "      <td>3.511216e+06</td>\n",
       "      <td>7592.443797</td>\n",
       "    </tr>\n",
       "    <tr>\n",
       "      <th>37</th>\n",
       "      <td>St. Louis City</td>\n",
       "      <td>74</td>\n",
       "      <td>{\"rings\": [[[-10045963.5716148, 4667569.473067...</td>\n",
       "      <td>2.079364e+06</td>\n",
       "      <td>6397.152266</td>\n",
       "    </tr>\n",
       "    <tr>\n",
       "      <th>38</th>\n",
       "      <td>St. Louis City</td>\n",
       "      <td>75</td>\n",
       "      <td>{\"rings\": [[[-10048369.63174, 4667471.01845359...</td>\n",
       "      <td>1.776292e+06</td>\n",
       "      <td>5517.439920</td>\n",
       "    </tr>\n",
       "    <tr>\n",
       "      <th>39</th>\n",
       "      <td>St. Louis City</td>\n",
       "      <td>76</td>\n",
       "      <td>{\"rings\": [[[-10044497.827304, 4665210.6718510...</td>\n",
       "      <td>1.306064e+06</td>\n",
       "      <td>4810.200318</td>\n",
       "    </tr>\n",
       "    <tr>\n",
       "      <th>40</th>\n",
       "      <td>St. Louis City</td>\n",
       "      <td>77</td>\n",
       "      <td>{\"rings\": [[[-10048839.0660141, 4664473.951582...</td>\n",
       "      <td>2.210031e+06</td>\n",
       "      <td>8232.822105</td>\n",
       "    </tr>\n",
       "    <tr>\n",
       "      <th>41</th>\n",
       "      <td>St. Louis City</td>\n",
       "      <td>78</td>\n",
       "      <td>{\"rings\": [[[-10044742.7301745, 4663723.611809...</td>\n",
       "      <td>1.726426e+06</td>\n",
       "      <td>5668.792606</td>\n",
       "    </tr>\n",
       "    <tr>\n",
       "      <th>42</th>\n",
       "      <td>St. Louis City</td>\n",
       "      <td>79</td>\n",
       "      <td>{\"rings\": [[[-10049330.4302694, 4663036.560319...</td>\n",
       "      <td>1.877277e+06</td>\n",
       "      <td>5522.301406</td>\n",
       "    </tr>\n",
       "    <tr>\n",
       "      <th>43</th>\n",
       "      <td>St. Louis City</td>\n",
       "      <td>80</td>\n",
       "      <td>{\"rings\": [[[-10048507.6676497, 4661859.821703...</td>\n",
       "      <td>1.603916e+06</td>\n",
       "      <td>5936.618454</td>\n",
       "    </tr>\n",
       "    <tr>\n",
       "      <th>44</th>\n",
       "      <td>St. Louis City</td>\n",
       "      <td>81</td>\n",
       "      <td>{\"rings\": [[[-10045937.967798, 4661809.4115749...</td>\n",
       "      <td>1.991497e+06</td>\n",
       "      <td>6181.232247</td>\n",
       "    </tr>\n",
       "    <tr>\n",
       "      <th>45</th>\n",
       "      <td>St. Louis City</td>\n",
       "      <td>82</td>\n",
       "      <td>{\"rings\": [[[-10045449.1637187, 4661741.343813...</td>\n",
       "      <td>4.334878e+06</td>\n",
       "      <td>9416.891110</td>\n",
       "    </tr>\n",
       "    <tr>\n",
       "      <th>46</th>\n",
       "      <td>St. Louis City</td>\n",
       "      <td>83</td>\n",
       "      <td>{\"rings\": [[[-10046180.3102224, 4659219.025737...</td>\n",
       "      <td>5.838212e+06</td>\n",
       "      <td>12303.293609</td>\n",
       "    </tr>\n",
       "    <tr>\n",
       "      <th>47</th>\n",
       "      <td>St. Louis City</td>\n",
       "      <td>84</td>\n",
       "      <td>{\"rings\": [[[-10047958.0829803, 4658604.878675...</td>\n",
       "      <td>2.870380e+06</td>\n",
       "      <td>8304.355697</td>\n",
       "    </tr>\n",
       "  </tbody>\n",
       "</table>\n",
       "</div>"
      ],
      "text/plain": [
       "            County  ObjectId  \\\n",
       "0   St. Louis City         8   \n",
       "1   St. Louis City        32   \n",
       "2   St. Louis City        33   \n",
       "3   St. Louis City        35   \n",
       "4   St. Louis City        36   \n",
       "5   St. Louis City        38   \n",
       "6   St. Louis City        40   \n",
       "7   St. Louis City        42   \n",
       "8   St. Louis City        44   \n",
       "9   St. Louis City        45   \n",
       "10  St. Louis City        46   \n",
       "11  St. Louis City        48   \n",
       "12  St. Louis City        49   \n",
       "13  St. Louis City        50   \n",
       "14  St. Louis City        51   \n",
       "15  St. Louis City        52   \n",
       "16  St. Louis City        53   \n",
       "17  St. Louis City        54   \n",
       "18  St. Louis City        55   \n",
       "19  St. Louis City        56   \n",
       "20  St. Louis City        57   \n",
       "21  St. Louis City        58   \n",
       "22  St. Louis City        59   \n",
       "23  St. Louis City        60   \n",
       "24  St. Louis City        61   \n",
       "25  St. Louis City        62   \n",
       "26  St. Louis City        63   \n",
       "27  St. Louis City        64   \n",
       "28  St. Louis City        65   \n",
       "29  St. Louis City        66   \n",
       "30  St. Louis City        67   \n",
       "31  St. Louis City        68   \n",
       "32  St. Louis City        69   \n",
       "33  St. Louis City        70   \n",
       "34  St. Louis City        71   \n",
       "35  St. Louis City        72   \n",
       "36  St. Louis City        73   \n",
       "37  St. Louis City        74   \n",
       "38  St. Louis City        75   \n",
       "39  St. Louis City        76   \n",
       "40  St. Louis City        77   \n",
       "41  St. Louis City        78   \n",
       "42  St. Louis City        79   \n",
       "43  St. Louis City        80   \n",
       "44  St. Louis City        81   \n",
       "45  St. Louis City        82   \n",
       "46  St. Louis City        83   \n",
       "47  St. Louis City        84   \n",
       "\n",
       "                                                SHAPE   Shape__Area  \\\n",
       "0   {\"rings\": [[[-10039258.3530595, 4689396.521049...  2.467810e+07   \n",
       "1   {\"rings\": [[[-10046842.8855282, 4681393.019821...  5.286450e+06   \n",
       "2   {\"rings\": [[[-10047016.9891963, 4681065.728533...  2.611138e+06   \n",
       "3   {\"rings\": [[[-10046625.478334, 4679634.2738933...  1.077666e+06   \n",
       "4   {\"rings\": [[[-10046096.2652872, 4679136.436061...  1.783986e+06   \n",
       "5   {\"rings\": [[[-10048380.2079009, 4678893.802208...  7.102974e+06   \n",
       "6   {\"rings\": [[[-10045584.5294052, 4678384.875434...  1.498826e+06   \n",
       "7   {\"rings\": [[[-10040539.7512336, 4676979.895218...  5.180474e+06   \n",
       "8   {\"rings\": [[[-10046077.2295349, 4676836.141650...  1.914795e+06   \n",
       "9   {\"rings\": [[[-10049392.2135339, 4677246.157191...  1.749913e+06   \n",
       "10  {\"rings\": [[[-10048952.8354593, 4676799.062604...  1.671425e+06   \n",
       "11  {\"rings\": [[[-10044437.8268673, 4675604.197154...  1.277830e+06   \n",
       "12  {\"rings\": [[[-10046775.8707864, 4675408.559783...  2.034422e+06   \n",
       "13  {\"rings\": [[[-10050580.8832503, 4675306.321947...  1.570996e+06   \n",
       "14  {\"rings\": [[[-10041836.5120551, 4673669.949153...  4.346413e+06   \n",
       "15  {\"rings\": [[[-10048852.3137272, 4674867.297178...  1.748630e+06   \n",
       "16  {\"rings\": [[[-10044051.2140792, 4674323.069604...  2.048664e+06   \n",
       "17  {\"rings\": [[[-10044110.770007, 4674356.4325732...  1.541304e+06   \n",
       "18  {\"rings\": [[[-10051287.8734616, 4674175.361371...  1.161277e+06   \n",
       "19  {\"rings\": [[[-10046386.8088854, 4674164.240890...  1.720347e+06   \n",
       "20  {\"rings\": [[[-10050274.42061, 4674066.00760237...  1.963634e+06   \n",
       "21  {\"rings\": [[[-10045783.6796742, 4673828.056989...  1.562133e+06   \n",
       "22  {\"rings\": [[[-10043804.195979, 4673765.7545589...  1.453878e+06   \n",
       "23  {\"rings\": [[[-10044802.509451, 4673140.8963010...  1.496889e+06   \n",
       "24  {\"rings\": [[[-10051819.3128756, 4673306.836603...  1.572749e+06   \n",
       "25  {\"rings\": [[[-10048334.6778702, 4673121.222840...  1.141722e+06   \n",
       "26  {\"rings\": [[[-10042709.8136931, 4672625.983860...  2.859438e+06   \n",
       "27  {\"rings\": [[[-10046893.0900049, 4671828.576031...  1.791108e+06   \n",
       "28  {\"rings\": [[[-10043239.24921, 4671172.05184245...  1.408093e+06   \n",
       "29  {\"rings\": [[[-10042788.8503948, 4671050.757698...  2.920442e+06   \n",
       "30  {\"rings\": [[[-10045149.7148936, 4670844.090506...  1.936720e+06   \n",
       "31  {\"rings\": [[[-10041219.4677586, 4670627.451064...  2.456905e+06   \n",
       "32  {\"rings\": [[[-10044353.3349994, 4670412.525958...  1.803089e+06   \n",
       "33  {\"rings\": [[[-10046220.1632739, 4669824.213660...  4.469409e+06   \n",
       "34  {\"rings\": [[[-10044780.02259, 4669441.14486647...  2.376463e+06   \n",
       "35  {\"rings\": [[[-10048252.0784935, 4668220.351196...  2.566071e+06   \n",
       "36  {\"rings\": [[[-10045709.2065913, 4668399.036623...  3.511216e+06   \n",
       "37  {\"rings\": [[[-10045963.5716148, 4667569.473067...  2.079364e+06   \n",
       "38  {\"rings\": [[[-10048369.63174, 4667471.01845359...  1.776292e+06   \n",
       "39  {\"rings\": [[[-10044497.827304, 4665210.6718510...  1.306064e+06   \n",
       "40  {\"rings\": [[[-10048839.0660141, 4664473.951582...  2.210031e+06   \n",
       "41  {\"rings\": [[[-10044742.7301745, 4663723.611809...  1.726426e+06   \n",
       "42  {\"rings\": [[[-10049330.4302694, 4663036.560319...  1.877277e+06   \n",
       "43  {\"rings\": [[[-10048507.6676497, 4661859.821703...  1.603916e+06   \n",
       "44  {\"rings\": [[[-10045937.967798, 4661809.4115749...  1.991497e+06   \n",
       "45  {\"rings\": [[[-10045449.1637187, 4661741.343813...  4.334878e+06   \n",
       "46  {\"rings\": [[[-10046180.3102224, 4659219.025737...  5.838212e+06   \n",
       "47  {\"rings\": [[[-10047958.0829803, 4658604.878675...  2.870380e+06   \n",
       "\n",
       "    Shape__Length  \n",
       "0    35051.730931  \n",
       "1    10921.672257  \n",
       "2     7193.348477  \n",
       "3     5074.761283  \n",
       "4     5636.336380  \n",
       "5    15360.158272  \n",
       "6     5270.142167  \n",
       "7    11593.043744  \n",
       "8     6711.798609  \n",
       "9     5982.520796  \n",
       "10    6182.005992  \n",
       "11    5482.788982  \n",
       "12    6209.471892  \n",
       "13    5396.539063  \n",
       "14    8360.549291  \n",
       "15    5863.530025  \n",
       "16    6451.732962  \n",
       "17    5474.438709  \n",
       "18    4528.602588  \n",
       "19    8102.995932  \n",
       "20    7067.908446  \n",
       "21    5080.522677  \n",
       "22    5027.010827  \n",
       "23    5458.357137  \n",
       "24    5844.451508  \n",
       "25    6551.791453  \n",
       "26    6815.864331  \n",
       "27    7207.332876  \n",
       "28    5202.273313  \n",
       "29    7653.923872  \n",
       "30    5835.546340  \n",
       "31    8283.118026  \n",
       "32    5819.758045  \n",
       "33   10228.944381  \n",
       "34    6773.347245  \n",
       "35    7085.170642  \n",
       "36    7592.443797  \n",
       "37    6397.152266  \n",
       "38    5517.439920  \n",
       "39    4810.200318  \n",
       "40    8232.822105  \n",
       "41    5668.792606  \n",
       "42    5522.301406  \n",
       "43    5936.618454  \n",
       "44    6181.232247  \n",
       "45    9416.891110  \n",
       "46   12303.293609  \n",
       "47    8304.355697  "
      ]
     },
     "execution_count": 149,
     "metadata": {},
     "output_type": "execute_result"
    }
   ],
   "source": [
    "desert_fset_edits = desert_flayer.query()\n",
    "desert_fset_edits.sdf"
   ]
  },
  {
   "cell_type": "markdown",
   "metadata": {},
   "source": [
    "Using the same process, we will now remove lots that are not vacant and not a part of the city:"
   ]
  },
  {
   "cell_type": "code",
   "execution_count": 6,
   "metadata": {},
   "outputs": [
    {
     "data": {
      "text/html": [
       "<div class=\"item_container\" style=\"height: auto; overflow: hidden; border: 1px solid #cfcfcf; border-radius: 2px; background: #f6fafa; line-height: 1.21429em; padding: 10px;\">\n",
       "                    <div class=\"item_left\" style=\"width: 210px; float: left;\">\n",
       "                       <a href='http://SLUSTL.maps.arcgis.com/home/item.html?id=92cae70ace53422496aa6652d4916147' target='_blank'>\n",
       "                        <img src='data:image/png;base64,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' width='200' height='133' class=\"itemThumbnail\">\n",
       "                       </a>\n",
       "                    </div>\n",
       "\n",
       "                    <div class=\"item_right\"     style=\"float: none; width: auto; overflow: hidden;\">\n",
       "                        <a href='http://SLUSTL.maps.arcgis.com/home/item.html?id=92cae70ace53422496aa6652d4916147' target='_blank'><b>Summarize_STL_Vacancy___Low_Estimate_within_hexagon_bins</b>\n",
       "                        </a>\n",
       "                        <br/>Feature layer generated from Summarize Within<img src='http://SLUSTL.maps.arcgis.com/home/js/jsapi/esri/css/images/item_type_icons/featureshosted16.png' style=\"vertical-align:middle;\">Feature Layer Collection by gregbrunner_slugis\n",
       "                        <br/>Last Modified: September 21, 2018\n",
       "                        <br/>0 comments, 4 views\n",
       "                    </div>\n",
       "                </div>\n",
       "                "
      ],
      "text/plain": [
       "<Item title:\"Summarize_STL_Vacancy___Low_Estimate_within_hexagon_bins\" type:Feature Layer Collection owner:gregbrunner_slugis>"
      ]
     },
     "metadata": {},
     "output_type": "display_data"
    },
    {
     "data": {
      "text/html": [
       "<div class=\"item_container\" style=\"height: auto; overflow: hidden; border: 1px solid #cfcfcf; border-radius: 2px; background: #f6fafa; line-height: 1.21429em; padding: 10px;\">\n",
       "                    <div class=\"item_left\" style=\"width: 210px; float: left;\">\n",
       "                       <a href='http://SLUSTL.maps.arcgis.com/home/item.html?id=6272639bc37f47bc8983a3eab20d4a77' target='_blank'>\n",
       "                        <img src='data:image/png;base64,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' width='200' height='133' class=\"itemThumbnail\">\n",
       "                       </a>\n",
       "                    </div>\n",
       "\n",
       "                    <div class=\"item_right\"     style=\"float: none; width: auto; overflow: hidden;\">\n",
       "                        <a href='http://SLUSTL.maps.arcgis.com/home/item.html?id=6272639bc37f47bc8983a3eab20d4a77' target='_blank'><b>Low-Estimate STL Vacancy</b>\n",
       "                        </a>\n",
       "                        <br/>Using low-estimate for vacancy in St. Louis<img src='http://SLUSTL.maps.arcgis.com/home/js/jsapi/esri/css/images/item_type_icons/maps16.png' style=\"vertical-align:middle;\">Web Map by emmaleeblackwood\n",
       "                        <br/>Last Modified: December 02, 2018\n",
       "                        <br/>0 comments, 2 views\n",
       "                    </div>\n",
       "                </div>\n",
       "                "
      ],
      "text/plain": [
       "<Item title:\"Low-Estimate STL Vacancy\" type:Web Map owner:emmaleeblackwood>"
      ]
     },
     "metadata": {},
     "output_type": "display_data"
    },
    {
     "data": {
      "text/html": [
       "<div class=\"item_container\" style=\"height: auto; overflow: hidden; border: 1px solid #cfcfcf; border-radius: 2px; background: #f6fafa; line-height: 1.21429em; padding: 10px;\">\n",
       "                    <div class=\"item_left\" style=\"width: 210px; float: left;\">\n",
       "                       <a href='http://SLUSTL.maps.arcgis.com/home/item.html?id=ed7364354903406c838362e6ee2754df' target='_blank'>\n",
       "                        <img src='data:image/png;base64,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' width='200' height='133' class=\"itemThumbnail\">\n",
       "                       </a>\n",
       "                    </div>\n",
       "\n",
       "                    <div class=\"item_right\"     style=\"float: none; width: auto; overflow: hidden;\">\n",
       "                        <a href='http://SLUSTL.maps.arcgis.com/home/item.html?id=ed7364354903406c838362e6ee2754df' target='_blank'><b>STL Vacancy - Low Estimate</b>\n",
       "                        </a>\n",
       "                        <br/><img src='http://SLUSTL.maps.arcgis.com/home/js/jsapi/esri/css/images/item_type_icons/layers16.png' style=\"vertical-align:middle;\">File Geodatabase by gregbrunner_slugis\n",
       "                        <br/>Last Modified: December 02, 2018\n",
       "                        <br/>0 comments, 1 views\n",
       "                    </div>\n",
       "                </div>\n",
       "                "
      ],
      "text/plain": [
       "<Item title:\"STL Vacancy - Low Estimate\" type:File Geodatabase owner:gregbrunner_slugis>"
      ]
     },
     "metadata": {},
     "output_type": "display_data"
    },
    {
     "data": {
      "text/html": [
       "<div class=\"item_container\" style=\"height: auto; overflow: hidden; border: 1px solid #cfcfcf; border-radius: 2px; background: #f6fafa; line-height: 1.21429em; padding: 10px;\">\n",
       "                    <div class=\"item_left\" style=\"width: 210px; float: left;\">\n",
       "                       <a href='http://SLUSTL.maps.arcgis.com/home/item.html?id=2e908388c8564b1b953972152fb1b83c' target='_blank'>\n",
       "                        <img src='http://static.arcgis.com/images/desktopapp.png' class=\"itemThumbnail\">\n",
       "                       </a>\n",
       "                    </div>\n",
       "\n",
       "                    <div class=\"item_right\"     style=\"float: none; width: auto; overflow: hidden;\">\n",
       "                        <a href='http://SLUSTL.maps.arcgis.com/home/item.html?id=2e908388c8564b1b953972152fb1b83c' target='_blank'><b>vacancy-low-stl</b>\n",
       "                        </a>\n",
       "                        <br/><img src='http://SLUSTL.maps.arcgis.com/home/js/jsapi/esri/css/images/item_type_icons/layers16.png' style=\"vertical-align:middle;\">GeoJson by emmaleeblackwood\n",
       "                        <br/>Last Modified: December 02, 2018\n",
       "                        <br/>0 comments, 0 views\n",
       "                    </div>\n",
       "                </div>\n",
       "                "
      ],
      "text/plain": [
       "<Item title:\"vacancy-low-stl\" type:GeoJson owner:emmaleeblackwood>"
      ]
     },
     "metadata": {},
     "output_type": "display_data"
    },
    {
     "data": {
      "text/html": [
       "<div class=\"item_container\" style=\"height: auto; overflow: hidden; border: 1px solid #cfcfcf; border-radius: 2px; background: #f6fafa; line-height: 1.21429em; padding: 10px;\">\n",
       "                    <div class=\"item_left\" style=\"width: 210px; float: left;\">\n",
       "                       <a href='http://SLUSTL.maps.arcgis.com/home/item.html?id=e02d178306544dc498a8bdf9154153bf' target='_blank'>\n",
       "                        <img src='data:image/png;base64,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' width='200' height='133' class=\"itemThumbnail\">\n",
       "                       </a>\n",
       "                    </div>\n",
       "\n",
       "                    <div class=\"item_right\"     style=\"float: none; width: auto; overflow: hidden;\">\n",
       "                        <a href='http://SLUSTL.maps.arcgis.com/home/item.html?id=e02d178306544dc498a8bdf9154153bf' target='_blank'><b>STL Vacancy - Low Estimate</b>\n",
       "                        </a>\n",
       "                        <br/><img src='http://SLUSTL.maps.arcgis.com/home/js/jsapi/esri/css/images/item_type_icons/featureshosted16.png' style=\"vertical-align:middle;\">Feature Layer Collection by gregbrunner_slugis\n",
       "                        <br/>Last Modified: December 02, 2018\n",
       "                        <br/>0 comments, 35 views\n",
       "                    </div>\n",
       "                </div>\n",
       "                "
      ],
      "text/plain": [
       "<Item title:\"STL Vacancy - Low Estimate\" type:Feature Layer Collection owner:gregbrunner_slugis>"
      ]
     },
     "metadata": {},
     "output_type": "display_data"
    },
    {
     "data": {
      "text/html": [
       "<div class=\"item_container\" style=\"height: auto; overflow: hidden; border: 1px solid #cfcfcf; border-radius: 2px; background: #f6fafa; line-height: 1.21429em; padding: 10px;\">\n",
       "                    <div class=\"item_left\" style=\"width: 210px; float: left;\">\n",
       "                       <a href='http://SLUSTL.maps.arcgis.com/home/item.html?id=089435ce723147949d9b4088cc54d39d' target='_blank'>\n",
       "                        <img src='data:image/png;base64,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' width='200' height='133' class=\"itemThumbnail\">\n",
       "                       </a>\n",
       "                    </div>\n",
       "\n",
       "                    <div class=\"item_right\"     style=\"float: none; width: auto; overflow: hidden;\">\n",
       "                        <a href='http://SLUSTL.maps.arcgis.com/home/item.html?id=089435ce723147949d9b4088cc54d39d' target='_blank'><b>vacancy-low-stl</b>\n",
       "                        </a>\n",
       "                        <br/><img src='http://SLUSTL.maps.arcgis.com/home/js/jsapi/esri/css/images/item_type_icons/featureshosted16.png' style=\"vertical-align:middle;\">Feature Layer Collection by emmaleeblackwood\n",
       "                        <br/>Last Modified: December 02, 2018\n",
       "                        <br/>0 comments, 6 views\n",
       "                    </div>\n",
       "                </div>\n",
       "                "
      ],
      "text/plain": [
       "<Item title:\"vacancy-low-stl\" type:Feature Layer Collection owner:emmaleeblackwood>"
      ]
     },
     "metadata": {},
     "output_type": "display_data"
    }
   ],
   "source": [
    "vacancy_search = gis.content.search('vacancy-low')\n",
    "for x in vacancy_search:\n",
    "    display(x)"
   ]
  },
  {
   "cell_type": "code",
   "execution_count": 15,
   "metadata": {},
   "outputs": [],
   "source": [
    "vacancy_item = vacancy_search[5]\n",
    "vacancy_layer = vacancy_item.layers"
   ]
  },
  {
   "cell_type": "code",
   "execution_count": 16,
   "metadata": {},
   "outputs": [],
   "source": [
    "vacancy_fset = vacancy_layer[0].query()"
   ]
  },
  {
   "cell_type": "code",
   "execution_count": 17,
   "metadata": {},
   "outputs": [
    {
     "data": {
      "text/html": [
       "<div>\n",
       "<style scoped>\n",
       "    .dataframe tbody tr th:only-of-type {\n",
       "        vertical-align: middle;\n",
       "    }\n",
       "\n",
       "    .dataframe tbody tr th {\n",
       "        vertical-align: top;\n",
       "    }\n",
       "\n",
       "    .dataframe thead th {\n",
       "        text-align: right;\n",
       "    }\n",
       "</style>\n",
       "<table border=\"1\" class=\"dataframe\">\n",
       "  <thead>\n",
       "    <tr style=\"text-align: right;\">\n",
       "      <th></th>\n",
       "      <th>H</th>\n",
       "      <th>HANDLE</th>\n",
       "      <th>OBJECTID</th>\n",
       "      <th>SHAPE</th>\n",
       "      <th>Shape__Area</th>\n",
       "      <th>Shape__Area_2</th>\n",
       "      <th>Shape__Length</th>\n",
       "      <th>Shape__Length_2</th>\n",
       "      <th>cityStatus</th>\n",
       "      <th>vacantBinary</th>\n",
       "    </tr>\n",
       "  </thead>\n",
       "  <tbody>\n",
       "    <tr>\n",
       "      <th>0</th>\n",
       "      <td>14408110000</td>\n",
       "      <td>14408110000</td>\n",
       "      <td>3</td>\n",
       "      <td>{\"rings\": [[[-10045533.4945, 4675020.74609999]...</td>\n",
       "      <td>470.0781</td>\n",
       "      <td>470.070312</td>\n",
       "      <td>113.9976</td>\n",
       "      <td>113.997565</td>\n",
       "      <td>1.0</td>\n",
       "      <td>1.0</td>\n",
       "    </tr>\n",
       "    <tr>\n",
       "      <th>1</th>\n",
       "      <td>14408110000</td>\n",
       "      <td>14408110000</td>\n",
       "      <td>4</td>\n",
       "      <td>{\"rings\": [[[-10045541.8864, 4675025.5169], [-...</td>\n",
       "      <td>453.2305</td>\n",
       "      <td>453.242188</td>\n",
       "      <td>113.2069</td>\n",
       "      <td>113.206978</td>\n",
       "      <td>1.0</td>\n",
       "      <td>1.0</td>\n",
       "    </tr>\n",
       "    <tr>\n",
       "      <th>2</th>\n",
       "      <td>14408110000</td>\n",
       "      <td>14408110000</td>\n",
       "      <td>10</td>\n",
       "      <td>{\"rings\": [[[-10045610.6236, 4675064.5962], [-...</td>\n",
       "      <td>482.3906</td>\n",
       "      <td>482.390625</td>\n",
       "      <td>113.8795</td>\n",
       "      <td>113.879652</td>\n",
       "      <td>1.0</td>\n",
       "      <td>1.0</td>\n",
       "    </tr>\n",
       "    <tr>\n",
       "      <th>3</th>\n",
       "      <td>14408110000</td>\n",
       "      <td>14408110000</td>\n",
       "      <td>11</td>\n",
       "      <td>{\"rings\": [[[-10045627.3533, 4675074.1075], [-...</td>\n",
       "      <td>892.4883</td>\n",
       "      <td>892.492188</td>\n",
       "      <td>131.4056</td>\n",
       "      <td>131.405665</td>\n",
       "      <td>1.0</td>\n",
       "      <td>1.0</td>\n",
       "    </tr>\n",
       "    <tr>\n",
       "      <th>4</th>\n",
       "      <td>14408110000</td>\n",
       "      <td>14408110000</td>\n",
       "      <td>16</td>\n",
       "      <td>{\"rings\": [[[-10045676.8666, 4675102.25580001]...</td>\n",
       "      <td>831.5508</td>\n",
       "      <td>831.546875</td>\n",
       "      <td>128.3364</td>\n",
       "      <td>128.336448</td>\n",
       "      <td>1.0</td>\n",
       "      <td>1.0</td>\n",
       "    </tr>\n",
       "  </tbody>\n",
       "</table>\n",
       "</div>"
      ],
      "text/plain": [
       "             H       HANDLE  OBJECTID  \\\n",
       "0  14408110000  14408110000         3   \n",
       "1  14408110000  14408110000         4   \n",
       "2  14408110000  14408110000        10   \n",
       "3  14408110000  14408110000        11   \n",
       "4  14408110000  14408110000        16   \n",
       "\n",
       "                                               SHAPE  Shape__Area  \\\n",
       "0  {\"rings\": [[[-10045533.4945, 4675020.74609999]...     470.0781   \n",
       "1  {\"rings\": [[[-10045541.8864, 4675025.5169], [-...     453.2305   \n",
       "2  {\"rings\": [[[-10045610.6236, 4675064.5962], [-...     482.3906   \n",
       "3  {\"rings\": [[[-10045627.3533, 4675074.1075], [-...     892.4883   \n",
       "4  {\"rings\": [[[-10045676.8666, 4675102.25580001]...     831.5508   \n",
       "\n",
       "   Shape__Area_2  Shape__Length  Shape__Length_2  cityStatus  vacantBinary  \n",
       "0     470.070312       113.9976       113.997565         1.0           1.0  \n",
       "1     453.242188       113.2069       113.206978         1.0           1.0  \n",
       "2     482.390625       113.8795       113.879652         1.0           1.0  \n",
       "3     892.492188       131.4056       131.405665         1.0           1.0  \n",
       "4     831.546875       128.3364       128.336448         1.0           1.0  "
      ]
     },
     "execution_count": 17,
     "metadata": {},
     "output_type": "execute_result"
    }
   ],
   "source": [
    "vacancy_fset.sdf.head()"
   ]
  },
  {
   "cell_type": "code",
   "execution_count": 18,
   "metadata": {},
   "outputs": [],
   "source": [
    "vacancy_features = vacancy_fset.features"
   ]
  },
  {
   "cell_type": "code",
   "execution_count": 19,
   "metadata": {},
   "outputs": [],
   "source": [
    "vacancy_flayer = vacancy_layer[0]"
   ]
  },
  {
   "cell_type": "code",
   "execution_count": 21,
   "metadata": {},
   "outputs": [],
   "source": [
    "vacancy_delete_ids = []\n",
    "for i in range(len(vacancy_fset)):\n",
    "    vacancy_feature = vacancy_features[i]\n",
    "    vacant_binary_check = vacancy_feature.get_value('vacantBinary')\n",
    "    city_status_check = vacancy_feature.get_value('cityStatus')\n",
    "    if (vacant_binary_check == 1 and city_status_check == 1) != True:\n",
    "        vacancy_delete_ids.append(vacancy_feature.get_value('OBJECTID'))"
   ]
  },
  {
   "cell_type": "markdown",
   "metadata": {},
   "source": [
    "This process works but takes extremely long since there are over 125,000 lots..."
   ]
  },
  {
   "cell_type": "code",
   "execution_count": 23,
   "metadata": {
    "scrolled": false
   },
   "outputs": [],
   "source": [
    "for i in range(len(vacancy_delete_ids)):\n",
    "    delete_result = vacancy_flayer.edit_features(deletes=str(vacancy_delete_ids[i]))\n",
    "    delete_result"
   ]
  },
  {
   "cell_type": "markdown",
   "metadata": {},
   "source": [
    "## 3. Hot spot map of vacant lots in food deserts:"
   ]
  },
  {
   "cell_type": "markdown",
   "metadata": {},
   "source": [
    "The only way I could find to join features was with the ArcGIS REST API through URL parameters, so the code is not shown.  The resulting joined layers are accessed here:"
   ]
  },
  {
   "cell_type": "code",
   "execution_count": 34,
   "metadata": {},
   "outputs": [],
   "source": [
    "join_features = gis.content.get('305a1bb160594941a2461c71dbcc3c0b')"
   ]
  },
  {
   "cell_type": "code",
   "execution_count": 35,
   "metadata": {},
   "outputs": [],
   "source": [
    "join_lyr = join_features.layers"
   ]
  },
  {
   "cell_type": "code",
   "execution_count": 36,
   "metadata": {},
   "outputs": [
    {
     "data": {
      "application/vnd.jupyter.widget-view+json": {
       "model_id": "0e7c49a03f4143629ae66c688dae4cc4",
       "version_major": 2,
       "version_minor": 0
      },
      "text/plain": [
       "MapView(layout=Layout(height='400px', width='100%'))"
      ]
     },
     "metadata": {},
     "output_type": "display_data"
    }
   ],
   "source": [
    "map2 = gis.map('St. Louis, MO')\n",
    "map2"
   ]
  },
  {
   "cell_type": "code",
   "execution_count": 37,
   "metadata": {},
   "outputs": [],
   "source": [
    "hot_spots = analysis.find_hot_spots(join_features, analysis_field='Join_Count', divided_by_field=None, bounding_polygon_layer=None, aggregation_polygon_layer=None, output_name=None, context=None, gis=None)"
   ]
  },
  {
   "cell_type": "code",
   "execution_count": 38,
   "metadata": {},
   "outputs": [],
   "source": [
    "map2.add_layer(hot_spots['hot_spots_result_layer'])"
   ]
  },
  {
   "cell_type": "code",
   "execution_count": 39,
   "metadata": {},
   "outputs": [
    {
     "data": {
      "text/html": [
       "<div class=\"item_container\" style=\"height: auto; overflow: hidden; border: 1px solid #cfcfcf; border-radius: 2px; background: #f6fafa; line-height: 1.21429em; padding: 10px;\">\n",
       "                    <div class=\"item_left\" style=\"width: 210px; float: left;\">\n",
       "                       <a href='http://SLUSTL.maps.arcgis.com/home/item.html?id=87c50dbeba344a9aa72bbd42e2f9c161' target='_blank'>\n",
       "                        <img src='http://static.arcgis.com/images/desktopapp.png' class=\"itemThumbnail\">\n",
       "                       </a>\n",
       "                    </div>\n",
       "\n",
       "                    <div class=\"item_right\"     style=\"float: none; width: auto; overflow: hidden;\">\n",
       "                        <a href='http://SLUSTL.maps.arcgis.com/home/item.html?id=87c50dbeba344a9aa72bbd42e2f9c161' target='_blank'><b>Vacant Lot Hot Spots in Food Deserts</b>\n",
       "                        </a>\n",
       "                        <br/>Map created using Python API showing hot spots of vacant lots in food deserts<img src='http://SLUSTL.maps.arcgis.com/home/js/jsapi/esri/css/images/item_type_icons/maps16.png' style=\"vertical-align:middle;\">Web Map by emmaleeblackwood\n",
       "                        <br/>Last Modified: December 03, 2018\n",
       "                        <br/>0 comments, 0 views\n",
       "                    </div>\n",
       "                </div>\n",
       "                "
      ],
      "text/plain": [
       "<Item title:\"Vacant Lot Hot Spots in Food Deserts\" type:Web Map owner:emmaleeblackwood>"
      ]
     },
     "execution_count": 39,
     "metadata": {},
     "output_type": "execute_result"
    }
   ],
   "source": [
    "webmap_item_properties = {'title':'Vacant Lot Hot Spots in Food Deserts',\n",
    "                         'snippet':'Map created using Python API showing hot spots of vacant lots in food deserts',\n",
    "                         'tags':['stl', 'food desert', 'python']}\n",
    "\n",
    "map2.save(webmap_item_properties)"
   ]
  },
  {
   "cell_type": "markdown",
   "metadata": {},
   "source": [
    "## 4. Creating a map of the total population in each food desert using geoenrichment:"
   ]
  },
  {
   "cell_type": "code",
   "execution_count": 28,
   "metadata": {},
   "outputs": [],
   "source": [
    "desert_layer = desert_item.layers[0]"
   ]
  },
  {
   "cell_type": "markdown",
   "metadata": {},
   "source": [
    "This will add a field for the total population for each desert tract:"
   ]
  },
  {
   "cell_type": "code",
   "execution_count": 29,
   "metadata": {},
   "outputs": [],
   "source": [
    "desert_enrich = enrich_data.enrich_layer(desert_layer)"
   ]
  },
  {
   "cell_type": "code",
   "execution_count": 30,
   "metadata": {},
   "outputs": [
    {
     "data": {
      "application/vnd.jupyter.widget-view+json": {
       "model_id": "e8b836b43dc94d108ee7fd12e0eafcd2",
       "version_major": 2,
       "version_minor": 0
      },
      "text/plain": [
       "MapView(layout=Layout(height='400px', width='100%'))"
      ]
     },
     "metadata": {},
     "output_type": "display_data"
    }
   ],
   "source": [
    "map3 = gis.map('St. Louis, MO')\n",
    "map3"
   ]
  },
  {
   "cell_type": "code",
   "execution_count": 31,
   "metadata": {},
   "outputs": [],
   "source": [
    "map3.add_layer(desert_enrich, \n",
    "               {\"renderer\":\"ClassedColorRenderer\",\n",
    "               \"field_name\":'TOTPOP',\n",
    "               \"opacity\":0.7}\n",
    "              )"
   ]
  },
  {
   "cell_type": "code",
   "execution_count": 32,
   "metadata": {},
   "outputs": [
    {
     "data": {
      "text/html": [
       "<div class=\"item_container\" style=\"height: auto; overflow: hidden; border: 1px solid #cfcfcf; border-radius: 2px; background: #f6fafa; line-height: 1.21429em; padding: 10px;\">\n",
       "                    <div class=\"item_left\" style=\"width: 210px; float: left;\">\n",
       "                       <a href='http://SLUSTL.maps.arcgis.com/home/item.html?id=a44b9908005049a2abf51b17f2fa8813' target='_blank'>\n",
       "                        <img src='http://static.arcgis.com/images/desktopapp.png' class=\"itemThumbnail\">\n",
       "                       </a>\n",
       "                    </div>\n",
       "\n",
       "                    <div class=\"item_right\"     style=\"float: none; width: auto; overflow: hidden;\">\n",
       "                        <a href='http://SLUSTL.maps.arcgis.com/home/item.html?id=a44b9908005049a2abf51b17f2fa8813' target='_blank'><b>Food Desert Populations</b>\n",
       "                        </a>\n",
       "                        <br/>Map created using Python API showing the total population in each food desert<img src='http://SLUSTL.maps.arcgis.com/home/js/jsapi/esri/css/images/item_type_icons/maps16.png' style=\"vertical-align:middle;\">Web Map by emmaleeblackwood\n",
       "                        <br/>Last Modified: December 03, 2018\n",
       "                        <br/>0 comments, 0 views\n",
       "                    </div>\n",
       "                </div>\n",
       "                "
      ],
      "text/plain": [
       "<Item title:\"Food Desert Populations\" type:Web Map owner:emmaleeblackwood>"
      ]
     },
     "execution_count": 32,
     "metadata": {},
     "output_type": "execute_result"
    }
   ],
   "source": [
    "webmap_item_properties = {'title':'Food Desert Populations',\n",
    "                         'snippet':'Map created using Python API showing the total population in each food desert',\n",
    "                         'tags':['stl', 'food desert', 'python']}\n",
    "\n",
    "map3.save(webmap_item_properties)"
   ]
  },
  {
   "cell_type": "markdown",
   "metadata": {},
   "source": [
    "## 5. Finally, we will map the public schools in STL, create a 0.25 mile buffer around them, and display the vacant lots:"
   ]
  },
  {
   "cell_type": "code",
   "execution_count": 41,
   "metadata": {},
   "outputs": [],
   "source": [
    "school_data = './school.zip'"
   ]
  },
  {
   "cell_type": "code",
   "execution_count": 42,
   "metadata": {},
   "outputs": [],
   "source": [
    "school_properties = {'title': 'STL Public Schools', 'tags': 'stl, school', 'type': 'Shapefile'}\n",
    "school_lyr = gis.content.add(school_properties, school_data)\n",
    "published_schools  = school_lyr.publish()"
   ]
  },
  {
   "cell_type": "code",
   "execution_count": 43,
   "metadata": {},
   "outputs": [
    {
     "data": {
      "text/html": [
       "<div class=\"item_container\" style=\"height: auto; overflow: hidden; border: 1px solid #cfcfcf; border-radius: 2px; background: #f6fafa; line-height: 1.21429em; padding: 10px;\">\n",
       "                    <div class=\"item_left\" style=\"width: 210px; float: left;\">\n",
       "                       <a href='http://SLUSTL.maps.arcgis.com/home/item.html?id=248c5d47e3de45beaf9bacc1f12762a9' target='_blank'>\n",
       "                        <img src='http://static.arcgis.com/images/desktopapp.png' class=\"itemThumbnail\">\n",
       "                       </a>\n",
       "                    </div>\n",
       "\n",
       "                    <div class=\"item_right\"     style=\"float: none; width: auto; overflow: hidden;\">\n",
       "                        <a href='http://SLUSTL.maps.arcgis.com/home/item.html?id=248c5d47e3de45beaf9bacc1f12762a9' target='_blank'><b>STL Public Schools</b>\n",
       "                        </a>\n",
       "                        <br/><img src='http://SLUSTL.maps.arcgis.com/home/js/jsapi/esri/css/images/item_type_icons/featureshosted16.png' style=\"vertical-align:middle;\">Feature Layer Collection by emmaleeblackwood\n",
       "                        <br/>Last Modified: December 03, 2018\n",
       "                        <br/>0 comments, 0 views\n",
       "                    </div>\n",
       "                </div>\n",
       "                "
      ],
      "text/plain": [
       "<Item title:\"STL Public Schools\" type:Feature Layer Collection owner:emmaleeblackwood>"
      ]
     },
     "execution_count": 43,
     "metadata": {},
     "output_type": "execute_result"
    }
   ],
   "source": [
    "published_schools"
   ]
  },
  {
   "cell_type": "code",
   "execution_count": 44,
   "metadata": {},
   "outputs": [],
   "source": [
    "school_layer = published_schools.layers[0]"
   ]
  },
  {
   "cell_type": "code",
   "execution_count": 45,
   "metadata": {},
   "outputs": [
    {
     "data": {
      "application/vnd.jupyter.widget-view+json": {
       "model_id": "166298f52b454c188e98e885e3105576",
       "version_major": 2,
       "version_minor": 0
      },
      "text/plain": [
       "MapView(layout=Layout(height='400px', width='100%'))"
      ]
     },
     "metadata": {},
     "output_type": "display_data"
    }
   ],
   "source": [
    "map4 = gis.map('St. Louis')\n",
    "map4"
   ]
  },
  {
   "cell_type": "code",
   "execution_count": 46,
   "metadata": {},
   "outputs": [],
   "source": [
    "map4.add_layer(school_layer)"
   ]
  },
  {
   "cell_type": "code",
   "execution_count": 47,
   "metadata": {},
   "outputs": [],
   "source": [
    "school_buffer = use_proximity.create_buffers(school_layer, distances=[0.25], units = 'Miles')"
   ]
  },
  {
   "cell_type": "code",
   "execution_count": 48,
   "metadata": {},
   "outputs": [],
   "source": [
    "map4.add_layer(school_buffer)"
   ]
  },
  {
   "cell_type": "code",
   "execution_count": 49,
   "metadata": {},
   "outputs": [],
   "source": [
    "vacancy = gis.content.get('089435ce723147949d9b4088cc54d39d')"
   ]
  },
  {
   "cell_type": "code",
   "execution_count": 50,
   "metadata": {},
   "outputs": [],
   "source": [
    "vac_lyr = vacancy.layers"
   ]
  },
  {
   "cell_type": "code",
   "execution_count": 51,
   "metadata": {},
   "outputs": [],
   "source": [
    "map4.add_layer(vac_lyr)"
   ]
  },
  {
   "cell_type": "code",
   "execution_count": 52,
   "metadata": {},
   "outputs": [
    {
     "data": {
      "text/html": [
       "<div class=\"item_container\" style=\"height: auto; overflow: hidden; border: 1px solid #cfcfcf; border-radius: 2px; background: #f6fafa; line-height: 1.21429em; padding: 10px;\">\n",
       "                    <div class=\"item_left\" style=\"width: 210px; float: left;\">\n",
       "                       <a href='http://SLUSTL.maps.arcgis.com/home/item.html?id=50df123c954b4e9881ca4e468de9208d' target='_blank'>\n",
       "                        <img src='http://static.arcgis.com/images/desktopapp.png' class=\"itemThumbnail\">\n",
       "                       </a>\n",
       "                    </div>\n",
       "\n",
       "                    <div class=\"item_right\"     style=\"float: none; width: auto; overflow: hidden;\">\n",
       "                        <a href='http://SLUSTL.maps.arcgis.com/home/item.html?id=50df123c954b4e9881ca4e468de9208d' target='_blank'><b>Vacant Lots Near Schools</b>\n",
       "                        </a>\n",
       "                        <br/>Map created using Python API showing vacant lots near schools<img src='http://SLUSTL.maps.arcgis.com/home/js/jsapi/esri/css/images/item_type_icons/maps16.png' style=\"vertical-align:middle;\">Web Map by emmaleeblackwood\n",
       "                        <br/>Last Modified: December 03, 2018\n",
       "                        <br/>0 comments, 0 views\n",
       "                    </div>\n",
       "                </div>\n",
       "                "
      ],
      "text/plain": [
       "<Item title:\"Vacant Lots Near Schools\" type:Web Map owner:emmaleeblackwood>"
      ]
     },
     "execution_count": 52,
     "metadata": {},
     "output_type": "execute_result"
    }
   ],
   "source": [
    "webmap_item_properties = {'title':'Vacant Lots Near Schools',\n",
    "                         'snippet':'Map created using Python API showing vacant lots near schools',\n",
    "                         'tags':['stl', 'food desert', 'python']}\n",
    "\n",
    "map4.save(webmap_item_properties)"
   ]
  }
 ],
 "metadata": {
  "kernelspec": {
   "display_name": "Python 3",
   "language": "python",
   "name": "python3"
  },
  "language_info": {
   "codemirror_mode": {
    "name": "ipython",
    "version": 3
   },
   "file_extension": ".py",
   "mimetype": "text/x-python",
   "name": "python",
   "nbconvert_exporter": "python",
   "pygments_lexer": "ipython3",
   "version": "3.6.5"
  }
 },
 "nbformat": 4,
 "nbformat_minor": 2
}
