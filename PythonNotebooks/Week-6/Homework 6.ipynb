{
 "cells": [
  {
   "cell_type": "markdown",
   "metadata": {},
   "source": [
    "# Homework 6"
   ]
  },
  {
   "cell_type": "markdown",
   "metadata": {},
   "source": [
    "## Question 1:"
   ]
  },
  {
   "cell_type": "code",
   "execution_count": 2,
   "metadata": {},
   "outputs": [],
   "source": [
    "from arcgis.gis import GIS"
   ]
  },
  {
   "cell_type": "code",
   "execution_count": 3,
   "metadata": {},
   "outputs": [
    {
     "name": "stdout",
     "output_type": "stream",
     "text": [
      "Enter password: ········\n"
     ]
    }
   ],
   "source": [
    "gis = GIS(\"http://slustl.maps.arcgis.com/home\", \"emmaleeblackwood\")"
   ]
  },
  {
   "cell_type": "markdown",
   "metadata": {},
   "source": [
    "### Import csv files:"
   ]
  },
  {
   "cell_type": "code",
   "execution_count": 3,
   "metadata": {},
   "outputs": [],
   "source": [
    "csv_file1 = 'Thunder_Acquisitions.csv'"
   ]
  },
  {
   "cell_type": "code",
   "execution_count": 4,
   "metadata": {},
   "outputs": [],
   "source": [
    "csv_item1 = gis.content.add({\"title\" : \"ThunderAcquisitions\"}, csv_file1)"
   ]
  },
  {
   "cell_type": "code",
   "execution_count": 5,
   "metadata": {},
   "outputs": [
    {
     "data": {
      "text/html": [
       "<div class=\"item_container\" style=\"height: auto; overflow: hidden; border: 1px solid #cfcfcf; border-radius: 2px; background: #f6fafa; line-height: 1.21429em; padding: 10px;\">\n",
       "                    <div class=\"item_left\" style=\"width: 210px; float: left;\">\n",
       "                       <a href='http://SLUSTL.maps.arcgis.com/home/item.html?id=96fe04f53bad48aebfbf563cf9de90b3' target='_blank'>\n",
       "                        <img src='http://static.arcgis.com/images/desktopapp.png' class=\"itemThumbnail\">\n",
       "                       </a>\n",
       "                    </div>\n",
       "\n",
       "                    <div class=\"item_right\"     style=\"float: none; width: auto; overflow: hidden;\">\n",
       "                        <a href='http://SLUSTL.maps.arcgis.com/home/item.html?id=96fe04f53bad48aebfbf563cf9de90b3' target='_blank'><b>ThunderAcquisitions</b>\n",
       "                        </a>\n",
       "                        <br/><img src='http://SLUSTL.maps.arcgis.com/home/js/jsapi/esri/css/images/item_type_icons/layers16.png' style=\"vertical-align:middle;\">CSV by emmaleeblackwood\n",
       "                        <br/>Last Modified: October 10, 2018\n",
       "                        <br/>0 comments, 0 views\n",
       "                    </div>\n",
       "                </div>\n",
       "                "
      ],
      "text/plain": [
       "<Item title:\"ThunderAcquisitions\" type:CSV owner:emmaleeblackwood>"
      ]
     },
     "execution_count": 5,
     "metadata": {},
     "output_type": "execute_result"
    }
   ],
   "source": [
    "csv_item1"
   ]
  },
  {
   "cell_type": "markdown",
   "metadata": {},
   "source": [
    "### Convert csv files to feature layers:"
   ]
  },
  {
   "cell_type": "code",
   "execution_count": 6,
   "metadata": {},
   "outputs": [],
   "source": [
    "csv_lyr1 = csv_item1.publish(None, {\"Address\":\"FromLocation\"})"
   ]
  },
  {
   "cell_type": "code",
   "execution_count": 7,
   "metadata": {
    "scrolled": true
   },
   "outputs": [
    {
     "data": {
      "text/html": [
       "<div class=\"item_container\" style=\"height: auto; overflow: hidden; border: 1px solid #cfcfcf; border-radius: 2px; background: #f6fafa; line-height: 1.21429em; padding: 10px;\">\n",
       "                    <div class=\"item_left\" style=\"width: 210px; float: left;\">\n",
       "                       <a href='http://SLUSTL.maps.arcgis.com/home/item.html?id=5b4c6fe3f8454e1fa507ecafa848b470' target='_blank'>\n",
       "                        <img src='http://static.arcgis.com/images/desktopapp.png' class=\"itemThumbnail\">\n",
       "                       </a>\n",
       "                    </div>\n",
       "\n",
       "                    <div class=\"item_right\"     style=\"float: none; width: auto; overflow: hidden;\">\n",
       "                        <a href='http://SLUSTL.maps.arcgis.com/home/item.html?id=5b4c6fe3f8454e1fa507ecafa848b470' target='_blank'><b>ThunderAcquisitions</b>\n",
       "                        </a>\n",
       "                        <br/><img src='http://SLUSTL.maps.arcgis.com/home/js/jsapi/esri/css/images/item_type_icons/featureshosted16.png' style=\"vertical-align:middle;\">Feature Layer Collection by emmaleeblackwood\n",
       "                        <br/>Last Modified: October 10, 2018\n",
       "                        <br/>0 comments, 0 views\n",
       "                    </div>\n",
       "                </div>\n",
       "                "
      ],
      "text/plain": [
       "<Item title:\"ThunderAcquisitions\" type:Feature Layer Collection owner:emmaleeblackwood>"
      ]
     },
     "execution_count": 7,
     "metadata": {},
     "output_type": "execute_result"
    }
   ],
   "source": [
    "csv_lyr1"
   ]
  },
  {
   "cell_type": "code",
   "execution_count": 8,
   "metadata": {},
   "outputs": [],
   "source": [
    "csv_file2 = 'Thunder_Departures.csv'"
   ]
  },
  {
   "cell_type": "code",
   "execution_count": 9,
   "metadata": {},
   "outputs": [],
   "source": [
    "csv_item2 = gis.content.add({\"title\" : \"ThunderDepartures\"}, csv_file2)"
   ]
  },
  {
   "cell_type": "code",
   "execution_count": 10,
   "metadata": {},
   "outputs": [],
   "source": [
    "csv_lyr2 = csv_item2.publish(None, {\"Address\":\"ToLocation\"})"
   ]
  },
  {
   "cell_type": "code",
   "execution_count": 11,
   "metadata": {},
   "outputs": [
    {
     "data": {
      "text/html": [
       "<div class=\"item_container\" style=\"height: auto; overflow: hidden; border: 1px solid #cfcfcf; border-radius: 2px; background: #f6fafa; line-height: 1.21429em; padding: 10px;\">\n",
       "                    <div class=\"item_left\" style=\"width: 210px; float: left;\">\n",
       "                       <a href='http://SLUSTL.maps.arcgis.com/home/item.html?id=9d0af4ad5f584649a29637a61ffb051d' target='_blank'>\n",
       "                        <img src='http://static.arcgis.com/images/desktopapp.png' class=\"itemThumbnail\">\n",
       "                       </a>\n",
       "                    </div>\n",
       "\n",
       "                    <div class=\"item_right\"     style=\"float: none; width: auto; overflow: hidden;\">\n",
       "                        <a href='http://SLUSTL.maps.arcgis.com/home/item.html?id=9d0af4ad5f584649a29637a61ffb051d' target='_blank'><b>ThunderDepartures</b>\n",
       "                        </a>\n",
       "                        <br/><img src='http://SLUSTL.maps.arcgis.com/home/js/jsapi/esri/css/images/item_type_icons/featureshosted16.png' style=\"vertical-align:middle;\">Feature Layer Collection by emmaleeblackwood\n",
       "                        <br/>Last Modified: October 10, 2018\n",
       "                        <br/>0 comments, 0 views\n",
       "                    </div>\n",
       "                </div>\n",
       "                "
      ],
      "text/plain": [
       "<Item title:\"ThunderDepartures\" type:Feature Layer Collection owner:emmaleeblackwood>"
      ]
     },
     "execution_count": 11,
     "metadata": {},
     "output_type": "execute_result"
    }
   ],
   "source": [
    "csv_lyr2"
   ]
  },
  {
   "cell_type": "markdown",
   "metadata": {},
   "source": [
    "### Define renderers (two different colors):"
   ]
  },
  {
   "cell_type": "code",
   "execution_count": null,
   "metadata": {},
   "outputs": [],
   "source": [
    "simple_renderer1 = {\n",
    "  \"renderer\": {\n",
    "    \"type\": \"simple\",\n",
    "    \"symbol\": {\n",
    "      \"color\": [\n",
    "        0,\n",
    "        0,\n",
    "        128,\n",
    "        128\n",
    "      ],\n",
    "      \"size\": 15,\n",
    "      \"angle\": 0,\n",
    "      \"xoffset\": 0,\n",
    "      \"yoffset\": 0,\n",
    "      \"type\": \"esriSMS\",\n",
    "      \"style\": \"esriSMSCircle\",\n",
    "      \"outline\": {\n",
    "        \"color\": [\n",
    "          0,\n",
    "          0,\n",
    "          128,\n",
    "          255\n",
    "        ],\n",
    "        \"width\": 0.99975,\n",
    "        \"type\": \"esriSLS\",\n",
    "        \"style\": \"esriSLSSolid\"\n",
    "      }\n",
    "    }\n",
    "  }\n",
    "}"
   ]
  },
  {
   "cell_type": "code",
   "execution_count": 13,
   "metadata": {},
   "outputs": [],
   "source": [
    "simple_renderer2 = {\n",
    "  \"renderer\": {\n",
    "    \"type\": \"simple\",\n",
    "    \"symbol\": {\n",
    "      \"color\": [\n",
    "        128,\n",
    "        0,\n",
    "        0,\n",
    "        128\n",
    "      ],\n",
    "      \"size\": 15,\n",
    "      \"angle\": 0,\n",
    "      \"xoffset\": 0,\n",
    "      \"yoffset\": 0,\n",
    "      \"type\": \"esriSMS\",\n",
    "      \"style\": \"esriSMSCircle\",\n",
    "      \"outline\": {\n",
    "        \"color\": [\n",
    "          128,\n",
    "          0,\n",
    "          0,\n",
    "          255\n",
    "        ],\n",
    "        \"width\": 0.99975,\n",
    "        \"type\": \"esriSLS\",\n",
    "        \"style\": \"esriSLSSolid\"\n",
    "      }\n",
    "    }\n",
    "  }\n",
    "}"
   ]
  },
  {
   "cell_type": "markdown",
   "metadata": {},
   "source": [
    "### Add map"
   ]
  },
  {
   "cell_type": "code",
   "execution_count": 25,
   "metadata": {},
   "outputs": [],
   "source": [
    "map = gis.map()"
   ]
  },
  {
   "cell_type": "code",
   "execution_count": 26,
   "metadata": {},
   "outputs": [
    {
     "data": {
      "application/vnd.jupyter.widget-view+json": {
       "model_id": "95d757f9a48b4671a88c33b86585c7b4",
       "version_major": 2,
       "version_minor": 0
      },
      "text/plain": [
       "MapView(basemaps=['dark-gray', 'dark-gray-vector', 'gray', 'gray-vector', 'hybrid', 'national-geographic', 'oc…"
      ]
     },
     "metadata": {},
     "output_type": "display_data"
    }
   ],
   "source": [
    "map"
   ]
  },
  {
   "cell_type": "code",
   "execution_count": 27,
   "metadata": {},
   "outputs": [],
   "source": [
    "map.add_layer(csv_lyr1, simple_renderer1)"
   ]
  },
  {
   "cell_type": "code",
   "execution_count": 28,
   "metadata": {},
   "outputs": [],
   "source": [
    "map.add_layer(csv_lyr2, simple_renderer2)"
   ]
  },
  {
   "cell_type": "code",
   "execution_count": 29,
   "metadata": {},
   "outputs": [
    {
     "data": {
      "text/html": [
       "<div class=\"item_container\" style=\"height: auto; overflow: hidden; border: 1px solid #cfcfcf; border-radius: 2px; background: #f6fafa; line-height: 1.21429em; padding: 10px;\">\n",
       "                    <div class=\"item_left\" style=\"width: 210px; float: left;\">\n",
       "                       <a href='http://SLUSTL.maps.arcgis.com/home/item.html?id=6438067253a94e0db1ac5deb41e2eaa8' target='_blank'>\n",
       "                        <img src='http://static.arcgis.com/images/desktopapp.png' class=\"itemThumbnail\">\n",
       "                       </a>\n",
       "                    </div>\n",
       "\n",
       "                    <div class=\"item_right\"     style=\"float: none; width: auto; overflow: hidden;\">\n",
       "                        <a href='http://SLUSTL.maps.arcgis.com/home/item.html?id=6438067253a94e0db1ac5deb41e2eaa8' target='_blank'><b>Oklahoma City Thunder</b>\n",
       "                        </a>\n",
       "                        <br/>Oklahoma City Thunder<img src='http://SLUSTL.maps.arcgis.com/home/js/jsapi/esri/css/images/item_type_icons/maps16.png' style=\"vertical-align:middle;\">Web Map by emmaleeblackwood\n",
       "                        <br/>Last Modified: October 10, 2018\n",
       "                        <br/>0 comments, 0 views\n",
       "                    </div>\n",
       "                </div>\n",
       "                "
      ],
      "text/plain": [
       "<Item title:\"Oklahoma City Thunder\" type:Web Map owner:emmaleeblackwood>"
      ]
     },
     "execution_count": 29,
     "metadata": {},
     "output_type": "execute_result"
    }
   ],
   "source": [
    "webmap_item_properties = {'title':'Oklahoma City Thunder',\n",
    "                         'snippet':'Oklahoma City Thunder',\n",
    "                         'tags':['OK']}\n",
    "\n",
    "map.save(webmap_item_properties)#, thumbnail='./webmap_thumbnail.png')"
   ]
  },
  {
   "cell_type": "markdown",
   "metadata": {},
   "source": [
    "## Question 2:"
   ]
  },
  {
   "cell_type": "markdown",
   "metadata": {},
   "source": [
    "### Creating Groups:"
   ]
  },
  {
   "cell_type": "code",
   "execution_count": 4,
   "metadata": {},
   "outputs": [],
   "source": [
    "webmaps_group = gis.groups.create(title='EMMA_Webmaps',\n",
    "                                    tags = 'webmaps',\n",
    "                                    description = 'Group to share webmaps',\n",
    "                                    snippet = ' ',\n",
    "                                    access = 'org',\n",
    "                                    is_invitation_only = 'False',\n",
    "                                    thumbnail = ' ')"
   ]
  },
  {
   "cell_type": "code",
   "execution_count": 5,
   "metadata": {},
   "outputs": [
    {
     "data": {
      "text/html": [
       "<div class=\"9item_container\" style=\"height: auto; overflow: hidden; border: 1px solid #cfcfcf; border-radius: 2px; background: #f6fafa; line-height: 1.21429em; padding: 10px;\">\n",
       "                    <div class=\"item_left\" style=\"width: 210px; float: left;\">\n",
       "                       <a href='http://SLUSTL.maps.arcgis.com/home/group.html?id=cedb9c490f4b4a79b0fed70d5af9776b' target='_blank'>\n",
       "                        <img src='http://SLUSTL.maps.arcgis.com/home/images/group-no-image.png' class=\"itemThumbnail\">\n",
       "                       </a>\n",
       "                    </div>\n",
       "\n",
       "                    <div class=\"item_right\" style=\"float: none; width: auto; overflow: hidden;\">\n",
       "                        <a href='http://SLUSTL.maps.arcgis.com/home/group.html?id=cedb9c490f4b4a79b0fed70d5af9776b' target='_blank'><b>EMMA_Webmaps</b>\n",
       "                        </a>\n",
       "                        <br/>\n",
       "                        <br/><b>Summary</b>: None\n",
       "                        <br/><b>Description</b>: Group to share webmaps\n",
       "                        <br/><b>Owner</b>: emmaleeblackwood\n",
       "                        <br/><b>Created</b>: October 17, 2018\n",
       "\n",
       "                    </div>\n",
       "                </div>\n",
       "                "
      ],
      "text/plain": [
       "<Group title:\"EMMA_Webmaps\" owner:emmaleeblackwood>"
      ]
     },
     "execution_count": 5,
     "metadata": {},
     "output_type": "execute_result"
    }
   ],
   "source": [
    "webmaps_group"
   ]
  },
  {
   "cell_type": "code",
   "execution_count": 7,
   "metadata": {},
   "outputs": [
    {
     "name": "stderr",
     "output_type": "stream",
     "text": [
      "Unable to create group.\n",
      "You already have a group named 'EMMA_Feature_Services'. Try a different name.\n"
     ]
    },
    {
     "ename": "RuntimeError",
     "evalue": "Unable to create group.\nYou already have a group named 'EMMA_Feature_Services'. Try a different name.\n(Error Code: 400)",
     "output_type": "error",
     "traceback": [
      "\u001b[1;31m---------------------------------------------------------------------------\u001b[0m",
      "\u001b[1;31mRuntimeError\u001b[0m                              Traceback (most recent call last)",
      "\u001b[1;32m<ipython-input-7-16f9b8ed133a>\u001b[0m in \u001b[0;36m<module>\u001b[1;34m()\u001b[0m\n\u001b[0;32m      5\u001b[0m                                     \u001b[0maccess\u001b[0m \u001b[1;33m=\u001b[0m \u001b[1;34m'org'\u001b[0m\u001b[1;33m,\u001b[0m\u001b[1;33m\u001b[0m\u001b[0m\n\u001b[0;32m      6\u001b[0m                                     \u001b[0mis_invitation_only\u001b[0m \u001b[1;33m=\u001b[0m \u001b[1;34m'False'\u001b[0m\u001b[1;33m,\u001b[0m\u001b[1;33m\u001b[0m\u001b[0m\n\u001b[1;32m----> 7\u001b[1;33m                                     thumbnail = ' ')\n\u001b[0m",
      "\u001b[1;32mC:\\Program Files\\ArcGIS\\Pro\\bin\\Python\\envs\\arcgispro-py3\\lib\\site-packages\\arcgis\\gis\\__init__.py\u001b[0m in \u001b[0;36mcreate\u001b[1;34m(self, title, tags, description, snippet, access, thumbnail, is_invitation_only, sort_field, sort_order, is_view_only, auto_join, provider_group_name, provider, max_file_size, users_update_items)\u001b[0m\n\u001b[0;32m   2021\u001b[0m         \u001b[0mparams\u001b[0m\u001b[1;33m[\u001b[0m\u001b[1;34m'MAX_FILE_SIZE'\u001b[0m\u001b[1;33m]\u001b[0m \u001b[1;33m=\u001b[0m \u001b[0mmax_file_size\u001b[0m\u001b[1;33m\u001b[0m\u001b[0m\n\u001b[0;32m   2022\u001b[0m \u001b[1;33m\u001b[0m\u001b[0m\n\u001b[1;32m-> 2023\u001b[1;33m         \u001b[0mgroup\u001b[0m \u001b[1;33m=\u001b[0m \u001b[0mself\u001b[0m\u001b[1;33m.\u001b[0m\u001b[0m_portal\u001b[0m\u001b[1;33m.\u001b[0m\u001b[0mcreate_group_from_dict\u001b[0m\u001b[1;33m(\u001b[0m\u001b[0mparams\u001b[0m\u001b[1;33m,\u001b[0m \u001b[0mthumbnail\u001b[0m\u001b[1;33m)\u001b[0m\u001b[1;33m\u001b[0m\u001b[0m\n\u001b[0m\u001b[0;32m   2024\u001b[0m \u001b[1;33m\u001b[0m\u001b[0m\n\u001b[0;32m   2025\u001b[0m         \u001b[1;32mif\u001b[0m \u001b[0mgroup\u001b[0m \u001b[1;32mis\u001b[0m \u001b[1;32mnot\u001b[0m \u001b[1;32mNone\u001b[0m\u001b[1;33m:\u001b[0m\u001b[1;33m\u001b[0m\u001b[0m\n",
      "\u001b[1;32mC:\\Program Files\\ArcGIS\\Pro\\bin\\Python\\envs\\arcgispro-py3\\lib\\site-packages\\arcgis\\_impl\\portalpy.py\u001b[0m in \u001b[0;36mcreate_group_from_dict\u001b[1;34m(self, group, thumbnail)\u001b[0m\n\u001b[0;32m    500\u001b[0m \u001b[1;33m\u001b[0m\u001b[0m\n\u001b[0;32m    501\u001b[0m         \u001b[1;31m# Send the POST request, and return the id from the response\u001b[0m\u001b[1;33m\u001b[0m\u001b[1;33m\u001b[0m\u001b[0m\n\u001b[1;32m--> 502\u001b[1;33m         \u001b[0mresp\u001b[0m \u001b[1;33m=\u001b[0m \u001b[0mself\u001b[0m\u001b[1;33m.\u001b[0m\u001b[0mcon\u001b[0m\u001b[1;33m.\u001b[0m\u001b[0mpost\u001b[0m\u001b[1;33m(\u001b[0m\u001b[1;34m'community/createGroup'\u001b[0m\u001b[1;33m,\u001b[0m \u001b[0mpostdata\u001b[0m\u001b[1;33m,\u001b[0m \u001b[0mfiles\u001b[0m\u001b[1;33m)\u001b[0m\u001b[1;33m\u001b[0m\u001b[0m\n\u001b[0m\u001b[0;32m    503\u001b[0m         \u001b[1;32mif\u001b[0m \u001b[0mresp\u001b[0m \u001b[1;32mand\u001b[0m \u001b[0mresp\u001b[0m\u001b[1;33m.\u001b[0m\u001b[0mget\u001b[0m\u001b[1;33m(\u001b[0m\u001b[1;34m'success'\u001b[0m\u001b[1;33m)\u001b[0m\u001b[1;33m:\u001b[0m\u001b[1;33m\u001b[0m\u001b[0m\n\u001b[0;32m    504\u001b[0m             \u001b[1;32mreturn\u001b[0m \u001b[0mresp\u001b[0m\u001b[1;33m[\u001b[0m\u001b[1;34m'group'\u001b[0m\u001b[1;33m]\u001b[0m\u001b[1;33m\u001b[0m\u001b[0m\n",
      "\u001b[1;32mC:\\Program Files\\ArcGIS\\Pro\\bin\\Python\\envs\\arcgispro-py3\\lib\\site-packages\\arcgis\\_impl\\connection.py\u001b[0m in \u001b[0;36mpost\u001b[1;34m(self, path, postdata, files, ssl, compress, is_retry, use_ordered_dict, add_token, verify_cert, token, try_json, out_folder, file_name, force_bytes, add_headers)\u001b[0m\n\u001b[0;32m   1154\u001b[0m                                          verify_cert=verify_cert, is_retry=True)\n\u001b[0;32m   1155\u001b[0m \u001b[1;33m\u001b[0m\u001b[0m\n\u001b[1;32m-> 1156\u001b[1;33m                 \u001b[0mself\u001b[0m\u001b[1;33m.\u001b[0m\u001b[0m_handle_json_error\u001b[0m\u001b[1;33m(\u001b[0m\u001b[0mresp_json\u001b[0m\u001b[1;33m[\u001b[0m\u001b[1;34m'error'\u001b[0m\u001b[1;33m]\u001b[0m\u001b[1;33m,\u001b[0m \u001b[0merrorcode\u001b[0m\u001b[1;33m)\u001b[0m\u001b[1;33m\u001b[0m\u001b[0m\n\u001b[0m\u001b[0;32m   1157\u001b[0m                 \u001b[1;32mreturn\u001b[0m \u001b[1;32mNone\u001b[0m\u001b[1;33m\u001b[0m\u001b[0m\n\u001b[0;32m   1158\u001b[0m         \u001b[1;32mexcept\u001b[0m \u001b[0mAttributeError\u001b[0m\u001b[1;33m:\u001b[0m\u001b[1;33m\u001b[0m\u001b[0m\n",
      "\u001b[1;32mC:\\Program Files\\ArcGIS\\Pro\\bin\\Python\\envs\\arcgispro-py3\\lib\\site-packages\\arcgis\\_impl\\connection.py\u001b[0m in \u001b[0;36m_handle_json_error\u001b[1;34m(self, error, errorcode)\u001b[0m\n\u001b[0;32m   1174\u001b[0m \u001b[1;33m\u001b[0m\u001b[0m\n\u001b[0;32m   1175\u001b[0m         \u001b[0merrormessage\u001b[0m \u001b[1;33m=\u001b[0m \u001b[0merrormessage\u001b[0m \u001b[1;33m+\u001b[0m \u001b[1;34m\"\\n(Error Code: \"\u001b[0m \u001b[1;33m+\u001b[0m \u001b[0mstr\u001b[0m\u001b[1;33m(\u001b[0m\u001b[0merrorcode\u001b[0m\u001b[1;33m)\u001b[0m \u001b[1;33m+\u001b[0m\u001b[1;34m\")\"\u001b[0m\u001b[1;33m\u001b[0m\u001b[0m\n\u001b[1;32m-> 1176\u001b[1;33m         \u001b[1;32mraise\u001b[0m \u001b[0mRuntimeError\u001b[0m\u001b[1;33m(\u001b[0m\u001b[0merrormessage\u001b[0m\u001b[1;33m)\u001b[0m\u001b[1;33m\u001b[0m\u001b[0m\n\u001b[0m\u001b[0;32m   1177\u001b[0m \u001b[1;33m\u001b[0m\u001b[0m\n\u001b[0;32m   1178\u001b[0m \u001b[1;32mclass\u001b[0m \u001b[0m_StrictURLopener\u001b[0m\u001b[1;33m(\u001b[0m\u001b[0mrequest\u001b[0m\u001b[1;33m.\u001b[0m\u001b[0mFancyURLopener\u001b[0m\u001b[1;33m)\u001b[0m\u001b[1;33m:\u001b[0m\u001b[1;33m\u001b[0m\u001b[0m\n",
      "\u001b[1;31mRuntimeError\u001b[0m: Unable to create group.\nYou already have a group named 'EMMA_Feature_Services'. Try a different name.\n(Error Code: 400)"
     ]
    }
   ],
   "source": [
    "featureServices_group = gis.groups.create(title='EMMA_Feature_Services',\n",
    "                                    tags = 'feature service',\n",
    "                                    description = 'Group to share feature services',\n",
    "                                    snippet = ' ',\n",
    "                                    access = 'org',\n",
    "                                    is_invitation_only = 'False',\n",
    "                                    thumbnail = ' ')"
   ]
  },
  {
   "cell_type": "code",
   "execution_count": 8,
   "metadata": {},
   "outputs": [
    {
     "data": {
      "text/html": [
       "<div class=\"9item_container\" style=\"height: auto; overflow: hidden; border: 1px solid #cfcfcf; border-radius: 2px; background: #f6fafa; line-height: 1.21429em; padding: 10px;\">\n",
       "                    <div class=\"item_left\" style=\"width: 210px; float: left;\">\n",
       "                       <a href='http://SLUSTL.maps.arcgis.com/home/group.html?id=022d235d291145b59647b6dadef5aaeb' target='_blank'>\n",
       "                        <img src='http://SLUSTL.maps.arcgis.com/home/images/group-no-image.png' class=\"itemThumbnail\">\n",
       "                       </a>\n",
       "                    </div>\n",
       "\n",
       "                    <div class=\"item_right\" style=\"float: none; width: auto; overflow: hidden;\">\n",
       "                        <a href='http://SLUSTL.maps.arcgis.com/home/group.html?id=022d235d291145b59647b6dadef5aaeb' target='_blank'><b>EMMA_Feature_Services</b>\n",
       "                        </a>\n",
       "                        <br/>\n",
       "                        <br/><b>Summary</b>: None\n",
       "                        <br/><b>Description</b>: Group to share feature services\n",
       "                        <br/><b>Owner</b>: emmaleeblackwood\n",
       "                        <br/><b>Created</b>: October 17, 2018\n",
       "\n",
       "                    </div>\n",
       "                </div>\n",
       "                "
      ],
      "text/plain": [
       "<Group title:\"EMMA_Feature_Services\" owner:emmaleeblackwood>"
      ]
     },
     "execution_count": 8,
     "metadata": {},
     "output_type": "execute_result"
    }
   ],
   "source": [
    "featureServices_group"
   ]
  },
  {
   "cell_type": "code",
   "execution_count": 9,
   "metadata": {},
   "outputs": [],
   "source": [
    "allContent_group = gis.groups.create(title='EMMA_All_Content',\n",
    "                                    tags = 'content',\n",
    "                                    description = 'Group to share all content',\n",
    "                                    snippet = ' ',\n",
    "                                    access = 'org',\n",
    "                                    is_invitation_only = 'False',\n",
    "                                    thumbnail = ' ')"
   ]
  },
  {
   "cell_type": "code",
   "execution_count": 10,
   "metadata": {},
   "outputs": [
    {
     "data": {
      "text/html": [
       "<div class=\"9item_container\" style=\"height: auto; overflow: hidden; border: 1px solid #cfcfcf; border-radius: 2px; background: #f6fafa; line-height: 1.21429em; padding: 10px;\">\n",
       "                    <div class=\"item_left\" style=\"width: 210px; float: left;\">\n",
       "                       <a href='http://SLUSTL.maps.arcgis.com/home/group.html?id=6bc354a2eb874668af4e1bfb6d77c1e7' target='_blank'>\n",
       "                        <img src='http://SLUSTL.maps.arcgis.com/home/images/group-no-image.png' class=\"itemThumbnail\">\n",
       "                       </a>\n",
       "                    </div>\n",
       "\n",
       "                    <div class=\"item_right\" style=\"float: none; width: auto; overflow: hidden;\">\n",
       "                        <a href='http://SLUSTL.maps.arcgis.com/home/group.html?id=6bc354a2eb874668af4e1bfb6d77c1e7' target='_blank'><b>EMMA_All_Content</b>\n",
       "                        </a>\n",
       "                        <br/>\n",
       "                        <br/><b>Summary</b>: None\n",
       "                        <br/><b>Description</b>: Group to share all content\n",
       "                        <br/><b>Owner</b>: emmaleeblackwood\n",
       "                        <br/><b>Created</b>: October 17, 2018\n",
       "\n",
       "                    </div>\n",
       "                </div>\n",
       "                "
      ],
      "text/plain": [
       "<Group title:\"EMMA_All_Content\" owner:emmaleeblackwood>"
      ]
     },
     "execution_count": 10,
     "metadata": {},
     "output_type": "execute_result"
    }
   ],
   "source": [
    "allContent_group"
   ]
  },
  {
   "cell_type": "code",
   "execution_count": null,
   "metadata": {},
   "outputs": [],
   "source": []
  }
 ],
 "metadata": {
  "kernelspec": {
   "display_name": "Python 3",
   "language": "python",
   "name": "python3"
  },
  "language_info": {
   "codemirror_mode": {
    "name": "ipython",
    "version": 3
   },
   "file_extension": ".py",
   "mimetype": "text/x-python",
   "name": "python",
   "nbconvert_exporter": "python",
   "pygments_lexer": "ipython3",
   "version": "3.6.5"
  }
 },
 "nbformat": 4,
 "nbformat_minor": 2
}
